{
 "cells": [
  {
   "cell_type": "code",
   "execution_count": 0,
   "metadata": {
    "application/vnd.databricks.v1+cell": {
     "cellMetadata": {
      "byteLimit": 2048000,
      "rowLimit": 10000
     },
     "inputWidgets": {},
     "nuid": "e702db0b-773c-49a0-b939-fc11d7dec3a1",
     "showTitle": false,
     "title": ""
    }
   },
   "outputs": [
    {
     "output_type": "execute_result",
     "data": {
      "text/html": [
       "\n",
       "        <div>\n",
       "            <p><b>SparkContext</b></p>\n",
       "\n",
       "            <p><a href=\"/?o=1641750616514802#setting/sparkui/0724-172532-69p7fez3/driver-3823686164296823481\">Spark UI</a></p>\n",
       "\n",
       "            <dl>\n",
       "              <dt>Version</dt>\n",
       "                <dd><code>v3.5.0</code></dd>\n",
       "              <dt>Master</dt>\n",
       "                <dd><code>spark://10.139.64.4:7077</code></dd>\n",
       "              <dt>AppName</dt>\n",
       "                <dd><code>Databricks Shell</code></dd>\n",
       "            </dl>\n",
       "        </div>\n",
       "        "
      ],
      "text/plain": [
       "<SparkContext master=spark://10.139.64.4:7077 appName=Databricks Shell>"
      ]
     },
     "execution_count": 41,
     "metadata": {},
     "output_type": "execute_result"
    }
   ],
   "source": [
    "sc"
   ]
  },
  {
   "cell_type": "code",
   "execution_count": 0,
   "metadata": {
    "application/vnd.databricks.v1+cell": {
     "cellMetadata": {
      "byteLimit": 2048000,
      "rowLimit": 10000
     },
     "inputWidgets": {},
     "nuid": "9687dc22-20d5-4e55-85e5-dcec983f906d",
     "showTitle": false,
     "title": ""
    }
   },
   "outputs": [
    {
     "output_type": "execute_result",
     "data": {
      "text/html": [
       "\n",
       "            <div>\n",
       "                <p><b>SparkSession - hive</b></p>\n",
       "                \n",
       "        <div>\n",
       "            <p><b>SparkContext</b></p>\n",
       "\n",
       "            <p><a href=\"/?o=1641750616514802#setting/sparkui/0724-172532-69p7fez3/driver-3823686164296823481\">Spark UI</a></p>\n",
       "\n",
       "            <dl>\n",
       "              <dt>Version</dt>\n",
       "                <dd><code>v3.5.0</code></dd>\n",
       "              <dt>Master</dt>\n",
       "                <dd><code>spark://10.139.64.4:7077</code></dd>\n",
       "              <dt>AppName</dt>\n",
       "                <dd><code>Databricks Shell</code></dd>\n",
       "            </dl>\n",
       "        </div>\n",
       "        \n",
       "            </div>\n",
       "        "
      ],
      "text/plain": [
       "<pyspark.sql.session.SparkSession at 0x7fc9e8f40880>"
      ]
     },
     "execution_count": 42,
     "metadata": {},
     "output_type": "execute_result"
    }
   ],
   "source": [
    "spark"
   ]
  },
  {
   "cell_type": "code",
   "execution_count": 0,
   "metadata": {
    "application/vnd.databricks.v1+cell": {
     "cellMetadata": {
      "byteLimit": 2048000,
      "rowLimit": 10000
     },
     "inputWidgets": {},
     "nuid": "b04a164d-1545-4c42-bee5-35bd4cf72e8e",
     "showTitle": false,
     "title": ""
    }
   },
   "outputs": [],
   "source": [
    "df = spark.read.csv(\"/Volumes/azure_workspacedatabricks/default/sales/raw_flight_data.csv\",header=True,inferSchema=True)"
   ]
  },
  {
   "cell_type": "code",
   "execution_count": 0,
   "metadata": {
    "application/vnd.databricks.v1+cell": {
     "cellMetadata": {
      "byteLimit": 2048000,
      "rowLimit": 10000
     },
     "inputWidgets": {},
     "nuid": "774d2dfa-fdec-477a-a19c-5d0b3f173f0e",
     "showTitle": false,
     "title": ""
    }
   },
   "outputs": [
    {
     "output_type": "stream",
     "name": "stdout",
     "output_type": "stream",
     "text": [
      "root\n |-- DayofMonth: integer (nullable = true)\n |-- DayOfWeek: integer (nullable = true)\n |-- Carrier: string (nullable = true)\n |-- OriginAirportID: integer (nullable = true)\n |-- DestAirportID: integer (nullable = true)\n |-- DepDelay: integer (nullable = true)\n |-- ArrDelay: integer (nullable = true)\n\n"
     ]
    }
   ],
   "source": [
    "df.printSchema()"
   ]
  },
  {
   "cell_type": "code",
   "execution_count": 0,
   "metadata": {
    "application/vnd.databricks.v1+cell": {
     "cellMetadata": {
      "byteLimit": 2048000,
      "rowLimit": 10000
     },
     "inputWidgets": {},
     "nuid": "d02c0731-6851-4f02-aded-e5a8bb178699",
     "showTitle": false,
     "title": ""
    }
   },
   "outputs": [],
   "source": [
    "from pyspark.sql.functions import *"
   ]
  },
  {
   "cell_type": "code",
   "execution_count": 0,
   "metadata": {
    "application/vnd.databricks.v1+cell": {
     "cellMetadata": {
      "byteLimit": 2048000,
      "rowLimit": 10000
     },
     "inputWidgets": {},
     "nuid": "f71d6c12-625f-4386-b15c-1ac434372650",
     "showTitle": false,
     "title": ""
    }
   },
   "outputs": [
    {
     "output_type": "stream",
     "name": "stdout",
     "output_type": "stream",
     "text": [
      "+----------+---------+-------+---------------+-------------+--------+--------+\n|DayofMonth|DayOfWeek|Carrier|OriginAirportID|DestAirportID|DepDelay|ArrDelay|\n+----------+---------+-------+---------------+-------------+--------+--------+\n|         0|        0|      0|              0|            0|   27444|   29033|\n+----------+---------+-------+---------------+-------------+--------+--------+\n\n"
     ]
    }
   ],
   "source": [
    "null_col = df.select([count(when(isnull(col), col)).alias(col) for col in df.columns])\n",
    "null_col.show()"
   ]
  },
  {
   "cell_type": "code",
   "execution_count": 0,
   "metadata": {
    "application/vnd.databricks.v1+cell": {
     "cellMetadata": {
      "byteLimit": 2048000,
      "rowLimit": 10000
     },
     "inputWidgets": {},
     "nuid": "25f0d07c-3d70-48b7-a382-20aede006a98",
     "showTitle": false,
     "title": ""
    }
   },
   "outputs": [
    {
     "output_type": "execute_result",
     "data": {
      "text/plain": [
       "DataFrame[DayofMonth: int, DayOfWeek: int, Carrier: string, OriginAirportID: int, DestAirportID: int, DepDelay: int, ArrDelay: int]"
      ]
     },
     "execution_count": 47,
     "metadata": {},
     "output_type": "execute_result"
    }
   ],
   "source": [
    "df.dropna()"
   ]
  },
  {
   "cell_type": "code",
   "execution_count": 0,
   "metadata": {
    "application/vnd.databricks.v1+cell": {
     "cellMetadata": {
      "byteLimit": 2048000,
      "rowLimit": 10000
     },
     "inputWidgets": {},
     "nuid": "128bb605-b248-40cb-96ca-2c2d32bae18c",
     "showTitle": false,
     "title": ""
    }
   },
   "outputs": [],
   "source": [
    "df = df.withColumn(\"OriginAirportID\",col(\"OriginAirportID\").cast(\"long\"))\n",
    "df = df.withColumn(\"DestAirportID\",col(\"DestAirportID\").cast(\"long\"))"
   ]
  },
  {
   "cell_type": "code",
   "execution_count": 0,
   "metadata": {
    "application/vnd.databricks.v1+cell": {
     "cellMetadata": {
      "byteLimit": 2048000,
      "rowLimit": 10000
     },
     "inputWidgets": {},
     "nuid": "99c1448c-3da7-4b17-8630-75432672404f",
     "showTitle": false,
     "title": ""
    }
   },
   "outputs": [
    {
     "output_type": "stream",
     "name": "stdout",
     "output_type": "stream",
     "text": [
      "+----------+---------+-------+---------------+-------------+--------+--------+\n|DayofMonth|DayOfWeek|Carrier|OriginAirportID|DestAirportID|DepDelay|ArrDelay|\n+----------+---------+-------+---------------+-------------+--------+--------+\n|        20|        6|     DL|          10397|        12953|      -4|     -25|\n|        18|        4|     DL|          10397|        11298|      -3|      44|\n|        19|        5|     DL|          10397|        11292|      -3|     -13|\n|        19|        5|     DL|          14679|        14869|       1|       8|\n|        16|        2|     DL|          10397|        14524|       4|      -2|\n|        17|        3|     DL|          13487|        13342|      -5|     -16|\n|        18|        4|     DL|          10397|        10792|      22|       3|\n|        18|        4|     DL|          10397|        14492|       2|      -9|\n|        18|        4|     DL|          10397|        11433|       0|      14|\n|        20|        6|     DL|          15304|        12478|      60|      56|\n|        20|        6|     DL|          11433|        10721|      -3|     -12|\n|        20|        6|     DL|          10397|        14683|      -4|       6|\n|        20|        6|     DL|          13198|        13487|      -8|     -12|\n|        21|        7|     DL|          12892|        14869|      -5|     -12|\n|        21|        7|     DL|          11278|        11433|      -5|      -9|\n|        21|        7|     DL|          14747|        13487|      -4|     -22|\n|        21|        7|     DL|          10397|        13303|       0|      -7|\n|        19|        5|     DL|          11433|        12892|      -2|      -7|\n|        19|        5|     DL|          11292|        13487|      -3|      -3|\n|        19|        5|     DL|          11433|        15016|      -1|     -12|\n+----------+---------+-------+---------------+-------------+--------+--------+\nonly showing top 20 rows\n\n"
     ]
    }
   ],
   "source": [
    "df = df.dropDuplicates()\n",
    "df.show()"
   ]
  },
  {
   "cell_type": "code",
   "execution_count": 0,
   "metadata": {
    "application/vnd.databricks.v1+cell": {
     "cellMetadata": {
      "byteLimit": 2048000,
      "rowLimit": 10000
     },
     "inputWidgets": {},
     "nuid": "b68caeec-793f-42ec-b443-e6735934a3f5",
     "showTitle": false,
     "title": ""
    }
   },
   "outputs": [
    {
     "output_type": "stream",
     "name": "stdout",
     "output_type": "stream",
     "text": [
      "+-------------+\n|Mean_ArrDelay|\n+-------------+\n|          7.0|\n+-------------+\n\n+---------------+\n|StdDev_DepDelay|\n+---------------+\n|           36.0|\n+---------------+\n\nMedian_ArrDelay: [-3.0]\n"
     ]
    }
   ],
   "source": [
    "df.select(round(mean(col('ArrDelay'))).alias('Mean_ArrDelay')).show()\n",
    "df.select(round(stddev(col('DepDelay'))).alias('StdDev_DepDelay')).show()\n",
    "median = df.approxQuantile('ArrDelay', [0.5],0.001)\n",
    "print(f\"Median_ArrDelay: {median}\")"
   ]
  },
  {
   "cell_type": "code",
   "execution_count": 0,
   "metadata": {
    "application/vnd.databricks.v1+cell": {
     "cellMetadata": {
      "byteLimit": 2048000,
      "rowLimit": 10000
     },
     "inputWidgets": {},
     "nuid": "ab5dff33-1631-404e-afff-391d907cc575",
     "showTitle": false,
     "title": ""
    }
   },
   "outputs": [
    {
     "output_type": "execute_result",
     "data": {
      "text/plain": [
       "70"
      ]
     },
     "execution_count": 53,
     "metadata": {},
     "output_type": "execute_result"
    }
   ],
   "source": [
    "df.select(['OriginAirportID']).distinct().count()"
   ]
  },
  {
   "cell_type": "code",
   "execution_count": 0,
   "metadata": {
    "application/vnd.databricks.v1+cell": {
     "cellMetadata": {
      "byteLimit": 2048000,
      "rowLimit": 10000
     },
     "inputWidgets": {},
     "nuid": "2dca1514-cdb1-47ed-9316-dbd84787327c",
     "showTitle": false,
     "title": ""
    }
   },
   "outputs": [
    {
     "output_type": "stream",
     "name": "stdout",
     "output_type": "stream",
     "text": [
      "+----------+---------+-------+---------------+-------------+--------+--------+\n|DayofMonth|DayOfWeek|Carrier|OriginAirportID|DestAirportID|DepDelay|ArrDelay|\n+----------+---------+-------+---------------+-------------+--------+--------+\n|        20|        6|     DL|          10397|        12953|      -4|     -25|\n|        19|        5|     DL|          10397|        11292|      -3|     -13|\n|        19|        5|     DL|          14679|        14869|       1|       8|\n|        20|        6|     DL|          15304|        12478|      60|      56|\n|        20|        6|     DL|          11433|        10721|      -3|     -12|\n|        20|        6|     DL|          10397|        14683|      -4|       6|\n|        20|        6|     DL|          13198|        13487|      -8|     -12|\n|        21|        7|     DL|          12892|        14869|      -5|     -12|\n|        21|        7|     DL|          11278|        11433|      -5|      -9|\n|        21|        7|     DL|          14747|        13487|      -4|     -22|\n|        21|        7|     DL|          10397|        13303|       0|      -7|\n|        21|        7|     DL|          12266|        10397|       7|      -5|\n|        21|        7|     DL|          14869|        14831|      18|      18|\n|        21|        7|     DL|          10821|        10397|      -1|       0|\n|        21|        7|     DL|          14027|        10397|      -4|      -9|\n|        19|        5|     DL|          11433|        12892|      -2|      -7|\n|        19|        5|     DL|          11292|        13487|      -3|      -3|\n|        19|        5|     DL|          11433|        15016|      -1|     -12|\n|        19|        5|     DL|          14679|        12478|      -5|      12|\n|        19|        5|     DL|          11618|        10397|      86|      91|\n+----------+---------+-------+---------------+-------------+--------+--------+\nonly showing top 20 rows\n\n"
     ]
    }
   ],
   "source": [
    "df.filter((df.DayOfWeek > 4) & (df.Carrier == \"DL\")).show()"
   ]
  },
  {
   "cell_type": "code",
   "execution_count": 0,
   "metadata": {
    "application/vnd.databricks.v1+cell": {
     "cellMetadata": {
      "byteLimit": 2048000,
      "rowLimit": 10000
     },
     "inputWidgets": {},
     "nuid": "025932cd-e1fb-4995-8cea-4d849a82dde5",
     "showTitle": false,
     "title": ""
    }
   },
   "outputs": [],
   "source": [
    "airports_df = spark.read.csv(\"/Volumes/azure_workspacedatabricks/default/sales/airports.csv\",header=True,inferSchema=True)"
   ]
  },
  {
   "cell_type": "code",
   "execution_count": 0,
   "metadata": {
    "application/vnd.databricks.v1+cell": {
     "cellMetadata": {
      "byteLimit": 2048000,
      "rowLimit": 10000
     },
     "inputWidgets": {},
     "nuid": "c9ccb453-0c66-4b1d-8c6c-994f6b55023a",
     "showTitle": false,
     "title": ""
    }
   },
   "outputs": [
    {
     "output_type": "stream",
     "name": "stdout",
     "output_type": "stream",
     "text": [
      "+----------+---------+-------+---------------+-------------+--------+--------+----------+--------------+-----+--------------------+\n|DayofMonth|DayOfWeek|Carrier|OriginAirportID|DestAirportID|DepDelay|ArrDelay|airport_id|          city|state|                name|\n+----------+---------+-------+---------------+-------------+--------+--------+----------+--------------+-----+--------------------+\n|        20|        6|     DL|          10397|        12953|      -4|     -25|     10397|       Atlanta|   GA|Hartsfield-Jackso...|\n|        18|        4|     DL|          10397|        11298|      -3|      44|     10397|       Atlanta|   GA|Hartsfield-Jackso...|\n|        19|        5|     DL|          10397|        11292|      -3|     -13|     10397|       Atlanta|   GA|Hartsfield-Jackso...|\n|        19|        5|     DL|          14679|        14869|       1|       8|     14679|     San Diego|   CA|San Diego Interna...|\n|        16|        2|     DL|          10397|        14524|       4|      -2|     10397|       Atlanta|   GA|Hartsfield-Jackso...|\n|        17|        3|     DL|          13487|        13342|      -5|     -16|     13487|   Minneapolis|   MN|Minneapolis-St Pa...|\n|        18|        4|     DL|          10397|        10792|      22|       3|     10397|       Atlanta|   GA|Hartsfield-Jackso...|\n|        18|        4|     DL|          10397|        14492|       2|      -9|     10397|       Atlanta|   GA|Hartsfield-Jackso...|\n|        18|        4|     DL|          10397|        11433|       0|      14|     10397|       Atlanta|   GA|Hartsfield-Jackso...|\n|        20|        6|     DL|          15304|        12478|      60|      56|     15304|         Tampa|   FL| Tampa International|\n|        20|        6|     DL|          11433|        10721|      -3|     -12|     11433|       Detroit|   MI|Detroit Metro Way...|\n|        20|        6|     DL|          10397|        14683|      -4|       6|     10397|       Atlanta|   GA|Hartsfield-Jackso...|\n|        20|        6|     DL|          13198|        13487|      -8|     -12|     13198|   Kansas City|   MO|Kansas City Inter...|\n|        21|        7|     DL|          12892|        14869|      -5|     -12|     12892|   Los Angeles|   CA|Los Angeles Inter...|\n|        21|        7|     DL|          11278|        11433|      -5|      -9|     11278|    Washington|   DC|Ronald Reagan Was...|\n|        21|        7|     DL|          14747|        13487|      -4|     -22|     14747|       Seattle|   WA|Seattle/Tacoma In...|\n|        21|        7|     DL|          10397|        13303|       0|      -7|     10397|       Atlanta|   GA|Hartsfield-Jackso...|\n|        22|        1|     DL|          14843|        10397|      22|      13|     14843|      San Juan|   PR|Luis Munoz Marin ...|\n|        21|        7|     DL|          12266|        10397|       7|      -5|     12266|       Houston|   TX|George Bush Inter...|\n|        21|        7|     DL|          14869|        14831|      18|      18|     14869|Salt Lake City|   UT|Salt Lake City In...|\n+----------+---------+-------+---------------+-------------+--------+--------+----------+--------------+-----+--------------------+\nonly showing top 20 rows\n\n"
     ]
    }
   ],
   "source": [
    "newairportDF = df.join(airports_df,df.OriginAirportID == airports_df.airport_id)\n",
    "newairportDF.show()"
   ]
  },
  {
   "cell_type": "code",
   "execution_count": 0,
   "metadata": {
    "application/vnd.databricks.v1+cell": {
     "cellMetadata": {},
     "inputWidgets": {},
     "nuid": "38c09f5a-c5b2-4b3e-bf40-fae6c9186499",
     "showTitle": false,
     "title": ""
    }
   },
   "outputs": [],
   "source": []
  }
 ],
 "metadata": {
  "application/vnd.databricks.v1+notebook": {
   "dashboards": [],
   "environmentMetadata": null,
   "language": "python",
   "notebookMetadata": {
    "pythonIndentUnit": 4
   },
   "notebookName": "Databricks - Data Cleaning",
   "widgets": {}
  }
 },
 "nbformat": 4,
 "nbformat_minor": 0
}
