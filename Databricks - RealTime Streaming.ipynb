{
 "cells": [
  {
   "cell_type": "code",
   "execution_count": 0,
   "metadata": {
    "application/vnd.databricks.v1+cell": {
     "cellMetadata": {
      "byteLimit": 2048000,
      "rowLimit": 10000
     },
     "inputWidgets": {},
     "nuid": "3f3b5bc6-5f30-4fb5-960b-54973bec3437",
     "showTitle": false,
     "title": ""
    }
   },
   "outputs": [
    {
     "output_type": "execute_result",
     "data": {
      "text/html": [
       "\n",
       "        <div>\n",
       "            <p><b>SparkContext</b></p>\n",
       "\n",
       "            <p><a href=\"/?o=1641750616514802#setting/sparkui/0724-045026-67wpgvj4/driver-4849089491518867249\">Spark UI</a></p>\n",
       "\n",
       "            <dl>\n",
       "              <dt>Version</dt>\n",
       "                <dd><code>v3.5.0</code></dd>\n",
       "              <dt>Master</dt>\n",
       "                <dd><code>spark://10.139.64.6:7077</code></dd>\n",
       "              <dt>AppName</dt>\n",
       "                <dd><code>Databricks Shell</code></dd>\n",
       "            </dl>\n",
       "        </div>\n",
       "        "
      ],
      "text/plain": [
       "<SparkContext master=spark://10.139.64.6:7077 appName=Databricks Shell>"
      ]
     },
     "execution_count": 11,
     "metadata": {},
     "output_type": "execute_result"
    }
   ],
   "source": [
    "sc"
   ]
  },
  {
   "cell_type": "code",
   "execution_count": 0,
   "metadata": {
    "application/vnd.databricks.v1+cell": {
     "cellMetadata": {
      "byteLimit": 2048000,
      "rowLimit": 10000
     },
     "inputWidgets": {},
     "nuid": "c5d1e2b9-f94e-4832-9165-f600d4a29044",
     "showTitle": false,
     "title": ""
    }
   },
   "outputs": [
    {
     "output_type": "execute_result",
     "data": {
      "text/html": [
       "\n",
       "            <div>\n",
       "                <p><b>SparkSession - hive</b></p>\n",
       "                \n",
       "        <div>\n",
       "            <p><b>SparkContext</b></p>\n",
       "\n",
       "            <p><a href=\"/?o=1641750616514802#setting/sparkui/0724-045026-67wpgvj4/driver-4849089491518867249\">Spark UI</a></p>\n",
       "\n",
       "            <dl>\n",
       "              <dt>Version</dt>\n",
       "                <dd><code>v3.5.0</code></dd>\n",
       "              <dt>Master</dt>\n",
       "                <dd><code>spark://10.139.64.6:7077</code></dd>\n",
       "              <dt>AppName</dt>\n",
       "                <dd><code>Databricks Shell</code></dd>\n",
       "            </dl>\n",
       "        </div>\n",
       "        \n",
       "            </div>\n",
       "        "
      ],
      "text/plain": [
       "<pyspark.sql.session.SparkSession at 0x7fce1d7a6e90>"
      ]
     },
     "execution_count": 12,
     "metadata": {},
     "output_type": "execute_result"
    }
   ],
   "source": [
    "spark"
   ]
  },
  {
   "cell_type": "code",
   "execution_count": 0,
   "metadata": {
    "application/vnd.databricks.v1+cell": {
     "cellMetadata": {
      "byteLimit": 2048000,
      "rowLimit": 10000
     },
     "inputWidgets": {},
     "nuid": "8ee88c36-c991-4016-a522-d57208e1a9e5",
     "showTitle": false,
     "title": ""
    }
   },
   "outputs": [],
   "source": [
    "from pyspark import SparkConf,SparkContext\n",
    "from pyspark.sql import SparkSession"
   ]
  },
  {
   "cell_type": "code",
   "execution_count": 0,
   "metadata": {
    "application/vnd.databricks.v1+cell": {
     "cellMetadata": {
      "byteLimit": 2048000,
      "rowLimit": 10000
     },
     "inputWidgets": {},
     "nuid": "894aa3f0-a3ab-4745-9332-e539143f6f39",
     "showTitle": false,
     "title": ""
    }
   },
   "outputs": [],
   "source": [
    "spark = SparkSession.builder.appName(\"Databricks Datasets\").getOrCreate()"
   ]
  },
  {
   "cell_type": "code",
   "execution_count": 0,
   "metadata": {
    "application/vnd.databricks.v1+cell": {
     "cellMetadata": {
      "byteLimit": 2048000,
      "rowLimit": 10000
     },
     "collapsed": true,
     "inputWidgets": {},
     "nuid": "9b25d96f-4b28-4f65-a4fb-6f565c428bda",
     "showTitle": false,
     "title": ""
    }
   },
   "outputs": [
    {
     "output_type": "execute_result",
     "data": {
      "text/html": [
       "\n",
       "            <div>\n",
       "                <p><b>SparkSession - hive</b></p>\n",
       "                \n",
       "        <div>\n",
       "            <p><b>SparkContext</b></p>\n",
       "\n",
       "            <p><a href=\"/?o=1641750616514802#setting/sparkui/0724-045026-67wpgvj4/driver-4849089491518867249\">Spark UI</a></p>\n",
       "\n",
       "            <dl>\n",
       "              <dt>Version</dt>\n",
       "                <dd><code>v3.5.0</code></dd>\n",
       "              <dt>Master</dt>\n",
       "                <dd><code>spark://10.139.64.6:7077</code></dd>\n",
       "              <dt>AppName</dt>\n",
       "                <dd><code>Databricks Shell</code></dd>\n",
       "            </dl>\n",
       "        </div>\n",
       "        \n",
       "            </div>\n",
       "        "
      ],
      "text/plain": [
       "<pyspark.sql.session.SparkSession at 0x7fce1d7a6e90>"
      ]
     },
     "execution_count": 6,
     "metadata": {},
     "output_type": "execute_result"
    }
   ],
   "source": [
    "spark"
   ]
  },
  {
   "cell_type": "markdown",
   "metadata": {
    "application/vnd.databricks.v1+cell": {
     "cellMetadata": {},
     "inputWidgets": {},
     "nuid": "aa61ad58-b5e7-4263-a07f-36e5862e7d51",
     "showTitle": false,
     "title": ""
    }
   },
   "source": [
    "#####1.Create a Dataset"
   ]
  },
  {
   "cell_type": "code",
   "execution_count": 0,
   "metadata": {
    "application/vnd.databricks.v1+cell": {
     "cellMetadata": {
      "byteLimit": 2048000,
      "rowLimit": 10000
     },
     "inputWidgets": {},
     "nuid": "66ecd287-994a-4705-869e-9dbcdb6c7557",
     "showTitle": false,
     "title": ""
    },
    "jupyter": {
     "source_hidden": true
    }
   },
   "outputs": [],
   "source": [
    "column = [\"PRODUCTCODE\",\"PRODUCTNAME\",\"SALES\",\"DATETIME\",\"PROFIT\",\"PAYMENTMETHOD\"]"
   ]
  },
  {
   "cell_type": "code",
   "execution_count": 0,
   "metadata": {
    "application/vnd.databricks.v1+cell": {
     "cellMetadata": {
      "byteLimit": 2048000,
      "rowLimit": 10000
     },
     "collapsed": true,
     "inputWidgets": {},
     "nuid": "d369e059-edc2-419d-94a3-10dfb787531e",
     "showTitle": false,
     "title": ""
    },
    "jupyter": {
     "source_hidden": true
    }
   },
   "outputs": [],
   "source": [
    "data = [\n",
    "    (\"P001\", \"Laptop\", 850, \"2023-07-01 10:23:45\", 120, \"Credit Card\"),\n",
    "    (\"P002\", \"Smartphone\", 600, \"2023-07-02 14:18:30\", 90, \"Debit Card\"),\n",
    "    (\"P003\", \"Tablet\", 300, \"2023-07-03 09:45:15\", 45, \"PayPal\"),\n",
    "    (\"P004\", \"Headphones\", 75, \"2023-07-04 11:20:50\", 10, \"Credit Card\"),\n",
    "    (\"P005\", \"Smartwatch\", 200, \"2023-07-05 16:05:40\", 30, \"Debit Card\"),\n",
    "    (\"P006\", \"Camera\", 500, \"2023-07-06 13:50:35\", 70, \"Credit Card\"),\n",
    "    (\"P007\", \"Printer\", 150, \"2023-07-07 15:45:22\", 20, \"PayPal\"),\n",
    "    (\"P008\", \"Monitor\", 250, \"2023-07-08 17:35:10\", 35, \"Credit Card\"),\n",
    "    (\"P009\", \"Keyboard\", 45, \"2023-07-09 08:22:55\", 5, \"Debit Card\"),\n",
    "    (\"P010\", \"Mouse\", 30, \"2023-07-10 12:15:47\", 3, \"Credit Card\"),\n",
    "    (\"P011\", \"Router\", 80, \"2023-07-11 10:50:23\", 12, \"PayPal\"),\n",
    "    (\"P012\", \"External HDD\", 100, \"2023-07-12 13:45:33\", 15, \"Credit Card\"),\n",
    "    (\"P013\", \"USB Drive\", 20, \"2023-07-13 09:33:27\", 2, \"Debit Card\"),\n",
    "    (\"P014\", \"Speaker\", 90, \"2023-07-14 14:40:45\", 10, \"Credit Card\"),\n",
    "    (\"P015\", \"Webcam\", 50, \"2023-07-15 11:30:55\", 7, \"PayPal\"),\n",
    "    (\"P016\", \"Microwave\", 120, \"2023-07-16 16:15:10\", 20, \"Debit Card\"),\n",
    "    (\"P017\", \"Refrigerator\", 600, \"2023-07-17 12:50:05\", 80, \"Credit Card\"),\n",
    "    (\"P018\", \"Washing Machine\", 700, \"2023-07-18 09:45:20\", 100, \"PayPal\"),\n",
    "    (\"P019\", \"Oven\", 350, \"2023-07-19 10:33:33\", 50, \"Debit Card\"),\n",
    "    (\"P020\", \"Dishwasher\", 450, \"2023-07-20 14:27:48\", 65, \"Credit Card\"),\n",
    "    (\"P021\", \"Air Conditioner\", 900, \"2023-07-21 16:12:11\", 130, \"PayPal\"),\n",
    "    (\"P022\", \"Heater\", 200, \"2023-07-22 12:23:56\", 25, \"Credit Card\"),\n",
    "    (\"P023\", \"Fan\", 60, \"2023-07-23 08:45:22\", 8, \"Debit Card\"),\n",
    "    (\"P024\", \"Blender\", 100, \"2023-07-24 11:37:15\", 15, \"PayPal\"),    (\"P025\", \"Toaster\", 40, \"2023-07-25 13:28:35\", 5, \"Credit Card\"),\n",
    "    (\"P026\", \"Coffee Maker\", 70, \"2023-07-26 09:30:42\", 10, \"Debit Card\"),\n",
    "    (\"P027\", \"Vacuum Cleaner\", 250, \"2023-07-27 15:45:57\", 40, \"Credit Card\"),\n",
    "    (\"P028\", \"Iron\", 35, \"2023-07-28 14:18:20\", 4, \"PayPal\"),\n",
    "    (\"P029\", \"Hair Dryer\", 45, \"2023-07-29 10:50:15\", 6, \"Credit Card\"),\n",
    "    (\"P030\", \"Electric Kettle\", 55, \"2023-07-30 12:23:45\", 8, \"Debit Card\")\n",
    "]"
   ]
  },
  {
   "cell_type": "code",
   "execution_count": 0,
   "metadata": {
    "application/vnd.databricks.v1+cell": {
     "cellMetadata": {
      "byteLimit": 2048000,
      "rowLimit": 10000
     },
     "collapsed": true,
     "inputWidgets": {},
     "nuid": "cf77fcc3-20c9-4660-90d5-ee0eb18823db",
     "showTitle": false,
     "title": ""
    },
    "jupyter": {
     "source_hidden": true
    }
   },
   "outputs": [
    {
     "output_type": "stream",
     "name": "stdout",
     "output_type": "stream",
     "text": [
      "+-----------+---------------+-----+-------------------+------+-------------+\n|PRODUCTCODE|    PRODUCTNAME|SALES|           DATETIME|PROFIT|PAYMENTMETHOD|\n+-----------+---------------+-----+-------------------+------+-------------+\n|       P001|         Laptop|  850|2023-07-01 10:23:45|   120|  Credit Card|\n|       P002|     Smartphone|  600|2023-07-02 14:18:30|    90|   Debit Card|\n|       P003|         Tablet|  300|2023-07-03 09:45:15|    45|       PayPal|\n|       P004|     Headphones|   75|2023-07-04 11:20:50|    10|  Credit Card|\n|       P005|     Smartwatch|  200|2023-07-05 16:05:40|    30|   Debit Card|\n|       P006|         Camera|  500|2023-07-06 13:50:35|    70|  Credit Card|\n|       P007|        Printer|  150|2023-07-07 15:45:22|    20|       PayPal|\n|       P008|        Monitor|  250|2023-07-08 17:35:10|    35|  Credit Card|\n|       P009|       Keyboard|   45|2023-07-09 08:22:55|     5|   Debit Card|\n|       P010|          Mouse|   30|2023-07-10 12:15:47|     3|  Credit Card|\n|       P011|         Router|   80|2023-07-11 10:50:23|    12|       PayPal|\n|       P012|   External HDD|  100|2023-07-12 13:45:33|    15|  Credit Card|\n|       P013|      USB Drive|   20|2023-07-13 09:33:27|     2|   Debit Card|\n|       P014|        Speaker|   90|2023-07-14 14:40:45|    10|  Credit Card|\n|       P015|         Webcam|   50|2023-07-15 11:30:55|     7|       PayPal|\n|       P016|      Microwave|  120|2023-07-16 16:15:10|    20|   Debit Card|\n|       P017|   Refrigerator|  600|2023-07-17 12:50:05|    80|  Credit Card|\n|       P018|Washing Machine|  700|2023-07-18 09:45:20|   100|       PayPal|\n|       P019|           Oven|  350|2023-07-19 10:33:33|    50|   Debit Card|\n|       P020|     Dishwasher|  450|2023-07-20 14:27:48|    65|  Credit Card|\n+-----------+---------------+-----+-------------------+------+-------------+\nonly showing top 20 rows\n\n"
     ]
    }
   ],
   "source": [
    "df = spark.createDataFrame(data,column)\n",
    "df.show()"
   ]
  },
  {
   "cell_type": "code",
   "execution_count": 0,
   "metadata": {
    "application/vnd.databricks.v1+cell": {
     "cellMetadata": {
      "byteLimit": 2048000,
      "rowLimit": 10000
     },
     "collapsed": true,
     "inputWidgets": {},
     "nuid": "5ecc4712-c89f-40e9-a16d-1bb1f93a54fb",
     "showTitle": false,
     "title": ""
    },
    "jupyter": {
     "source_hidden": true
    }
   },
   "outputs": [
    {
     "output_type": "execute_result",
     "data": {
      "text/plain": [
       "DataFrame[PRODUCTCODE: string, PRODUCTNAME: string, SALES: bigint, DATETIME: string, PROFIT: bigint, PAYMENTMETHOD: string]"
      ]
     },
     "execution_count": 10,
     "metadata": {},
     "output_type": "execute_result"
    }
   ],
   "source": [
    "from pyspark.sql import Row\n",
    "#Define a case class\n",
    "Sales = Row(\"PRODUCTCODE\",\"PRODUCTNAME\",\"SALES\",\"DATETIME\",\"PROFIT\",\"PAYMENTMETHOD\")\n",
    "df.rdd.map(lambda row:Sales(*row)).toDF()"
   ]
  },
  {
   "cell_type": "code",
   "execution_count": 0,
   "metadata": {
    "application/vnd.databricks.v1+cell": {
     "cellMetadata": {},
     "inputWidgets": {},
     "nuid": "e97b6acf-505d-4529-8252-ac52f6101279",
     "showTitle": false,
     "title": ""
    }
   },
   "outputs": [],
   "source": []
  },
  {
   "cell_type": "markdown",
   "metadata": {
    "application/vnd.databricks.v1+cell": {
     "cellMetadata": {},
     "inputWidgets": {},
     "nuid": "d558f0c1-ad98-405d-9d86-7ab5fd89f9f1",
     "showTitle": false,
     "title": ""
    }
   },
   "source": [
    "#####1. Create a DataFrame"
   ]
  },
  {
   "cell_type": "code",
   "execution_count": 0,
   "metadata": {
    "application/vnd.databricks.v1+cell": {
     "cellMetadata": {
      "byteLimit": 2048000,
      "rowLimit": 10000
     },
     "inputWidgets": {},
     "nuid": "6d4f66c4-0815-4ddf-aa6f-6bcf5ce0df7d",
     "showTitle": false,
     "title": ""
    }
   },
   "outputs": [],
   "source": [
    "green_taxiDF = spark.read.csv(\"/Volumes/azure_workspacedatabricks/default/greentaxi/2021_Green_Taxi_Trip_Data.csv\",\n",
    "                              header=True,inferSchema=True)"
   ]
  },
  {
   "cell_type": "code",
   "execution_count": 0,
   "metadata": {
    "application/vnd.databricks.v1+cell": {
     "cellMetadata": {
      "byteLimit": 2048000,
      "rowLimit": 10000
     },
     "inputWidgets": {},
     "nuid": "09f5799f-4aae-434f-85cc-a9cd5250e1ee",
     "showTitle": false,
     "title": ""
    }
   },
   "outputs": [],
   "source": [
    "green_taxi = green_taxiDF.repartition(10).write.mode(\"append\").option('header','true').parquet(\"/Volumes/azure_workspacedatabricks/default/greentaxi\")"
   ]
  },
  {
   "cell_type": "code",
   "execution_count": 0,
   "metadata": {
    "application/vnd.databricks.v1+cell": {
     "cellMetadata": {
      "byteLimit": 2048000,
      "rowLimit": 10000
     },
     "inputWidgets": {},
     "nuid": "57ef75aa-537c-48e0-aaf0-42fc7f95c355",
     "showTitle": false,
     "title": ""
    }
   },
   "outputs": [
    {
     "output_type": "stream",
     "name": "stdout",
     "output_type": "stream",
     "text": [
      "StructType([StructField('VendorID', IntegerType(), True), StructField('lpep_pickup_datetime', StringType(), True), StructField('lpep_dropoff_datetime', StringType(), True), StructField('store_and_fwd_flag', StringType(), True), StructField('RatecodeID', IntegerType(), True), StructField('PULocationID', IntegerType(), True), StructField('DOLocationID', IntegerType(), True), StructField('passenger_count', IntegerType(), True), StructField('trip_distance', DoubleType(), True), StructField('fare_amount', DoubleType(), True), StructField('extra', DoubleType(), True), StructField('mta_tax', DoubleType(), True), StructField('tip_amount', DoubleType(), True), StructField('tolls_amount', DoubleType(), True), StructField('ehail_fee', StringType(), True), StructField('improvement_surcharge', DoubleType(), True), StructField('total_amount', DoubleType(), True), StructField('payment_type', IntegerType(), True), StructField('trip_type', IntegerType(), True), StructField('congestion_surcharge', DoubleType(), True)])\n"
     ]
    }
   ],
   "source": [
    "print(green_taxiDF.schema)"
   ]
  },
  {
   "cell_type": "code",
   "execution_count": 0,
   "metadata": {
    "application/vnd.databricks.v1+cell": {
     "cellMetadata": {
      "byteLimit": 2048000,
      "rowLimit": 10000
     },
     "inputWidgets": {},
     "nuid": "1153347a-7068-4423-839e-ea35696a5bf1",
     "showTitle": false,
     "title": ""
    }
   },
   "outputs": [],
   "source": [
    "from pyspark.sql.functions import *\n",
    "from pyspark.sql.types import *\n",
    "green_taxiDF = green_taxiDF.withColumn(\"lpep_pickup_datetime\",col(\"lpep_pickup_datetime\").cast(TimestampType()))\n",
    "green_taxiDF = green_taxiDF.withColumn(\"lpep_dropoff_datetime\",col(\"lpep_dropoff_datetime\").cast(TimestampType()))"
   ]
  },
  {
   "cell_type": "code",
   "execution_count": 0,
   "metadata": {
    "application/vnd.databricks.v1+cell": {
     "cellMetadata": {
      "byteLimit": 2048000,
      "rowLimit": 10000
     },
     "collapsed": true,
     "inputWidgets": {},
     "nuid": "3871f84a-de48-47a4-b7f6-9bd3fdee6a30",
     "showTitle": false,
     "title": ""
    }
   },
   "outputs": [
    {
     "output_type": "stream",
     "name": "stdout",
     "output_type": "stream",
     "text": [
      "+----------------------+\n|lpep_pickup_datetime  |\n+----------------------+\n|01/01/2021 12:15:56 AM|\n|01/01/2021 12:25:59 AM|\n|01/01/2021 12:45:57 AM|\n|12/31/2020 11:57:51 PM|\n|01/01/2021 12:16:36 AM|\n|01/01/2021 12:16:36 AM|\n|01/01/2021 12:19:14 AM|\n|01/01/2021 12:26:31 AM|\n|01/01/2021 12:57:46 AM|\n|01/01/2021 12:58:32 AM|\n|01/01/2021 12:31:14 AM|\n|01/01/2021 12:08:50 AM|\n|01/01/2021 12:35:13 AM|\n|01/01/2021 12:39:57 AM|\n|01/01/2021 12:51:27 AM|\n|01/01/2021 12:29:05 AM|\n|01/01/2021 12:32:07 AM|\n|01/01/2021 12:49:59 AM|\n|01/01/2021 12:07:20 AM|\n|01/01/2021 12:25:54 AM|\n+----------------------+\nonly showing top 20 rows\n\n"
     ]
    }
   ],
   "source": [
    "green_taxiDF.select(\"lpep_pickup_datetime\").show(truncate=False)"
   ]
  },
  {
   "cell_type": "code",
   "execution_count": 0,
   "metadata": {
    "application/vnd.databricks.v1+cell": {
     "cellMetadata": {
      "byteLimit": 2048000,
      "rowLimit": 10000
     },
     "inputWidgets": {},
     "nuid": "518f469b-f12f-4403-a059-9a74f46b6573",
     "showTitle": false,
     "title": ""
    }
   },
   "outputs": [],
   "source": [
    "taxiReadStream = spark.readStream.format(\"parquet\").schema(green_taxiDF.schema).option(\"header\",\"true\").load(\"/Volumes/azure_workspacedatabricks/default/readstream/\")\n",
    "\n",
    "#ReadStream Transformation\n",
    "taxiTransformation = taxiReadStream.groupBy(\"trip_type\").sum(\"fare_amount\")"
   ]
  },
  {
   "cell_type": "code",
   "execution_count": 0,
   "metadata": {
    "application/vnd.databricks.v1+cell": {
     "cellMetadata": {
      "byteLimit": 2048000,
      "rowLimit": 10000
     },
     "inputWidgets": {},
     "nuid": "75b8f1c7-6fe0-4f60-8970-cca87da49e22",
     "showTitle": false,
     "title": ""
    }
   },
   "outputs": [
    {
     "output_type": "display_data",
     "data": {
      "text/plain": [
       "\u001B[0;31m---------------------------------------------------------------------------\u001B[0m\n",
       "\u001B[0;31mAnalysisException\u001B[0m                         Traceback (most recent call last)\n",
       "File \u001B[0;32m<command-814977772906934>, line 5\u001B[0m\n",
       "\u001B[1;32m      1\u001B[0m taxiWriteStreams \u001B[38;5;241m=\u001B[39m taxiTransformation\u001B[38;5;241m.\u001B[39mwriteStream\u001B[38;5;241m.\u001B[39moutputMode(\u001B[38;5;124m\"\u001B[39m\u001B[38;5;124mappend\u001B[39m\u001B[38;5;124m\"\u001B[39m)\\\n",
       "\u001B[1;32m      2\u001B[0m     \u001B[38;5;241m.\u001B[39mformat(\u001B[38;5;124m\"\u001B[39m\u001B[38;5;124mparquet\u001B[39m\u001B[38;5;124m\"\u001B[39m)\\\n",
       "\u001B[1;32m      3\u001B[0m     \u001B[38;5;241m.\u001B[39moption(\u001B[38;5;124m\"\u001B[39m\u001B[38;5;124mpath\u001B[39m\u001B[38;5;124m\"\u001B[39m,\u001B[38;5;124m\"\u001B[39m\u001B[38;5;124m/Volumes/azure_workspacedatabricks/default/writestream/\u001B[39m\u001B[38;5;124m\"\u001B[39m)\\\n",
       "\u001B[1;32m      4\u001B[0m     \u001B[38;5;241m.\u001B[39moption(\u001B[38;5;124m\"\u001B[39m\u001B[38;5;124mcheckpointlocation\u001B[39m\u001B[38;5;124m\"\u001B[39m,\u001B[38;5;124m\"\u001B[39m\u001B[38;5;124m/Volumes/azure_workspacedatabricks/default/checkpoint/\u001B[39m\u001B[38;5;124m\"\u001B[39m)\\\n",
       "\u001B[0;32m----> 5\u001B[0m     \u001B[38;5;241m.\u001B[39mstart()\n",
       "\u001B[1;32m      7\u001B[0m taxiWriteStreams\u001B[38;5;241m.\u001B[39mawaitTermination()\n",
       "\n",
       "File \u001B[0;32m/databricks/spark/python/pyspark/sql/streaming/readwriter.py:1637\u001B[0m, in \u001B[0;36mDataStreamWriter.start\u001B[0;34m(self, path, format, outputMode, partitionBy, queryName, **options)\u001B[0m\n",
       "\u001B[1;32m   1635\u001B[0m     \u001B[38;5;28mself\u001B[39m\u001B[38;5;241m.\u001B[39mqueryName(queryName)\n",
       "\u001B[1;32m   1636\u001B[0m \u001B[38;5;28;01mif\u001B[39;00m path \u001B[38;5;129;01mis\u001B[39;00m \u001B[38;5;28;01mNone\u001B[39;00m:\n",
       "\u001B[0;32m-> 1637\u001B[0m     \u001B[38;5;28;01mreturn\u001B[39;00m \u001B[38;5;28mself\u001B[39m\u001B[38;5;241m.\u001B[39m_sq(\u001B[38;5;28;43mself\u001B[39;49m\u001B[38;5;241;43m.\u001B[39;49m\u001B[43m_jwrite\u001B[49m\u001B[38;5;241;43m.\u001B[39;49m\u001B[43mstart\u001B[49m\u001B[43m(\u001B[49m\u001B[43m)\u001B[49m)\n",
       "\u001B[1;32m   1638\u001B[0m \u001B[38;5;28;01melse\u001B[39;00m:\n",
       "\u001B[1;32m   1639\u001B[0m     \u001B[38;5;28;01mreturn\u001B[39;00m \u001B[38;5;28mself\u001B[39m\u001B[38;5;241m.\u001B[39m_sq(\u001B[38;5;28mself\u001B[39m\u001B[38;5;241m.\u001B[39m_jwrite\u001B[38;5;241m.\u001B[39mstart(path))\n",
       "\n",
       "File \u001B[0;32m/databricks/spark/python/lib/py4j-0.10.9.7-src.zip/py4j/java_gateway.py:1355\u001B[0m, in \u001B[0;36mJavaMember.__call__\u001B[0;34m(self, *args)\u001B[0m\n",
       "\u001B[1;32m   1349\u001B[0m command \u001B[38;5;241m=\u001B[39m proto\u001B[38;5;241m.\u001B[39mCALL_COMMAND_NAME \u001B[38;5;241m+\u001B[39m\\\n",
       "\u001B[1;32m   1350\u001B[0m     \u001B[38;5;28mself\u001B[39m\u001B[38;5;241m.\u001B[39mcommand_header \u001B[38;5;241m+\u001B[39m\\\n",
       "\u001B[1;32m   1351\u001B[0m     args_command \u001B[38;5;241m+\u001B[39m\\\n",
       "\u001B[1;32m   1352\u001B[0m     proto\u001B[38;5;241m.\u001B[39mEND_COMMAND_PART\n",
       "\u001B[1;32m   1354\u001B[0m answer \u001B[38;5;241m=\u001B[39m \u001B[38;5;28mself\u001B[39m\u001B[38;5;241m.\u001B[39mgateway_client\u001B[38;5;241m.\u001B[39msend_command(command)\n",
       "\u001B[0;32m-> 1355\u001B[0m return_value \u001B[38;5;241m=\u001B[39m \u001B[43mget_return_value\u001B[49m\u001B[43m(\u001B[49m\n",
       "\u001B[1;32m   1356\u001B[0m \u001B[43m    \u001B[49m\u001B[43manswer\u001B[49m\u001B[43m,\u001B[49m\u001B[43m \u001B[49m\u001B[38;5;28;43mself\u001B[39;49m\u001B[38;5;241;43m.\u001B[39;49m\u001B[43mgateway_client\u001B[49m\u001B[43m,\u001B[49m\u001B[43m \u001B[49m\u001B[38;5;28;43mself\u001B[39;49m\u001B[38;5;241;43m.\u001B[39;49m\u001B[43mtarget_id\u001B[49m\u001B[43m,\u001B[49m\u001B[43m \u001B[49m\u001B[38;5;28;43mself\u001B[39;49m\u001B[38;5;241;43m.\u001B[39;49m\u001B[43mname\u001B[49m\u001B[43m)\u001B[49m\n",
       "\u001B[1;32m   1358\u001B[0m \u001B[38;5;28;01mfor\u001B[39;00m temp_arg \u001B[38;5;129;01min\u001B[39;00m temp_args:\n",
       "\u001B[1;32m   1359\u001B[0m     \u001B[38;5;28;01mif\u001B[39;00m \u001B[38;5;28mhasattr\u001B[39m(temp_arg, \u001B[38;5;124m\"\u001B[39m\u001B[38;5;124m_detach\u001B[39m\u001B[38;5;124m\"\u001B[39m):\n",
       "\n",
       "File \u001B[0;32m/databricks/spark/python/pyspark/errors/exceptions/captured.py:230\u001B[0m, in \u001B[0;36mcapture_sql_exception.<locals>.deco\u001B[0;34m(*a, **kw)\u001B[0m\n",
       "\u001B[1;32m    226\u001B[0m converted \u001B[38;5;241m=\u001B[39m convert_exception(e\u001B[38;5;241m.\u001B[39mjava_exception)\n",
       "\u001B[1;32m    227\u001B[0m \u001B[38;5;28;01mif\u001B[39;00m \u001B[38;5;129;01mnot\u001B[39;00m \u001B[38;5;28misinstance\u001B[39m(converted, UnknownException):\n",
       "\u001B[1;32m    228\u001B[0m     \u001B[38;5;66;03m# Hide where the exception came from that shows a non-Pythonic\u001B[39;00m\n",
       "\u001B[1;32m    229\u001B[0m     \u001B[38;5;66;03m# JVM exception message.\u001B[39;00m\n",
       "\u001B[0;32m--> 230\u001B[0m     \u001B[38;5;28;01mraise\u001B[39;00m converted \u001B[38;5;28;01mfrom\u001B[39;00m \u001B[38;5;28mNone\u001B[39m\n",
       "\u001B[1;32m    231\u001B[0m \u001B[38;5;28;01melse\u001B[39;00m:\n",
       "\u001B[1;32m    232\u001B[0m     \u001B[38;5;28;01mraise\u001B[39;00m\n",
       "\n",
       "\u001B[0;31mAnalysisException\u001B[0m: Append output mode not supported when there are streaming aggregations on streaming DataFrames/DataSets without watermark;\n",
       "Aggregate [trip_type#15870], [trip_type#15870, sum(fare_amount#15861) AS sum(fare_amount)#15913]\n",
       "+- StreamingRelation DataSource(org.apache.spark.sql.SparkSession@17f84e46,parquet,List(),Some(StructType(StructField(VendorID,IntegerType,true),StructField(lpep_pickup_datetime,StringType,true),StructField(lpep_dropoff_datetime,StringType,true),StructField(store_and_fwd_flag,StringType,true),StructField(RatecodeID,IntegerType,true),StructField(PULocationID,IntegerType,true),StructField(DOLocationID,IntegerType,true),StructField(passenger_count,IntegerType,true),StructField(trip_distance,DoubleType,true),StructField(fare_amount,DoubleType,true),StructField(extra,DoubleType,true),StructField(mta_tax,DoubleType,true),StructField(tip_amount,DoubleType,true),StructField(tolls_amount,DoubleType,true),StructField(ehail_fee,StringType,true),StructField(improvement_surcharge,DoubleType,true),StructField(total_amount,DoubleType,true),StructField(payment_type,IntegerType,true),StructField(trip_type,IntegerType,true),StructField(congestion_surcharge,DoubleType,true))),List(),None,Map(header -> true, path -> /Volumes/azure_workspacedatabricks/default/readstream/),None), FileSource[/Volumes/azure_workspacedatabricks/default/readstream/], [VendorID#15852, lpep_pickup_datetime#15853, lpep_dropoff_datetime#15854, store_and_fwd_flag#15855, RatecodeID#15856, PULocationID#15857, DOLocationID#15858, passenger_count#15859, trip_distance#15860, fare_amount#15861, extra#15862, mta_tax#15863, tip_amount#15864, tolls_amount#15865, ehail_fee#15866, improvement_surcharge#15867, total_amount#15868, payment_type#15869, trip_type#15870, congestion_surcharge#15871]\n"
      ]
     },
     "metadata": {
      "application/vnd.databricks.v1+output": {
       "addedWidgets": {},
       "arguments": {},
       "datasetInfos": [],
       "jupyterProps": {
        "ename": "AnalysisException",
        "evalue": "Append output mode not supported when there are streaming aggregations on streaming DataFrames/DataSets without watermark;\nAggregate [trip_type#15870], [trip_type#15870, sum(fare_amount#15861) AS sum(fare_amount)#15913]\n+- StreamingRelation DataSource(org.apache.spark.sql.SparkSession@17f84e46,parquet,List(),Some(StructType(StructField(VendorID,IntegerType,true),StructField(lpep_pickup_datetime,StringType,true),StructField(lpep_dropoff_datetime,StringType,true),StructField(store_and_fwd_flag,StringType,true),StructField(RatecodeID,IntegerType,true),StructField(PULocationID,IntegerType,true),StructField(DOLocationID,IntegerType,true),StructField(passenger_count,IntegerType,true),StructField(trip_distance,DoubleType,true),StructField(fare_amount,DoubleType,true),StructField(extra,DoubleType,true),StructField(mta_tax,DoubleType,true),StructField(tip_amount,DoubleType,true),StructField(tolls_amount,DoubleType,true),StructField(ehail_fee,StringType,true),StructField(improvement_surcharge,DoubleType,true),StructField(total_amount,DoubleType,true),StructField(payment_type,IntegerType,true),StructField(trip_type,IntegerType,true),StructField(congestion_surcharge,DoubleType,true))),List(),None,Map(header -> true, path -> /Volumes/azure_workspacedatabricks/default/readstream/),None), FileSource[/Volumes/azure_workspacedatabricks/default/readstream/], [VendorID#15852, lpep_pickup_datetime#15853, lpep_dropoff_datetime#15854, store_and_fwd_flag#15855, RatecodeID#15856, PULocationID#15857, DOLocationID#15858, passenger_count#15859, trip_distance#15860, fare_amount#15861, extra#15862, mta_tax#15863, tip_amount#15864, tolls_amount#15865, ehail_fee#15866, improvement_surcharge#15867, total_amount#15868, payment_type#15869, trip_type#15870, congestion_surcharge#15871]\n"
       },
       "metadata": {
        "errorSummary": "<span class='ansi-red-fg'>AnalysisException</span>: Append output mode not supported when there are streaming aggregations on streaming DataFrames/DataSets without watermark;\nAggregate [trip_type#15870], [trip_type#15870, sum(fare_amount#15861) AS sum(fare_amount)#15913]\n+- StreamingRelation DataSource(org.apache.spark.sql.SparkSession@17f84e46,parquet,List(),Some(StructType(StructField(VendorID,IntegerType,true),StructField(lpep_pickup_datetime,StringType,true),StructField(lpep_dropoff_datetime,StringType,true),StructField(store_and_fwd_flag,StringType,true),StructField(RatecodeID,IntegerType,true),StructField(PULocationID,IntegerType,true),StructField(DOLocationID,IntegerType,true),StructField(passenger_count,IntegerType,true),StructField(trip_distance,DoubleType,true),StructField(fare_amount,DoubleType,true),StructField(extra,DoubleType,true),StructField(mta_tax,DoubleType,true),StructField(tip_amount,DoubleType,true),StructField(tolls_amount,DoubleType,true),StructField(ehail_fee,StringType,true),StructField(improvement_surcharge,DoubleType,true),StructField(total_amount,DoubleType,true),StructField(payment_type,IntegerType,true),StructField(trip_type,IntegerType,true),StructField(congestion_surcharge,DoubleType,true))),List(),None,Map(header -> true, path -> /Volumes/azure_workspacedatabricks/default/readstream/),None), FileSource[/Volumes/azure_workspacedatabricks/default/readstream/], [VendorID#15852, lpep_pickup_datetime#15853, lpep_dropoff_datetime#15854, store_and_fwd_flag#15855, RatecodeID#15856, PULocationID#15857, DOLocationID#15858, passenger_count#15859, trip_distance#15860, fare_amount#15861, extra#15862, mta_tax#15863, tip_amount#15864, tolls_amount#15865, ehail_fee#15866, improvement_surcharge#15867, total_amount#15868, payment_type#15869, trip_type#15870, congestion_surcharge#15871]\n"
       },
       "removedWidgets": [],
       "sqlProps": {
        "errorClass": null,
        "sqlState": null,
        "startIndex": null,
        "stopIndex": null
       },
       "stackFrames": [
        "\u001B[0;31m---------------------------------------------------------------------------\u001B[0m",
        "\u001B[0;31mAnalysisException\u001B[0m                         Traceback (most recent call last)",
        "File \u001B[0;32m<command-814977772906934>, line 5\u001B[0m\n\u001B[1;32m      1\u001B[0m taxiWriteStreams \u001B[38;5;241m=\u001B[39m taxiTransformation\u001B[38;5;241m.\u001B[39mwriteStream\u001B[38;5;241m.\u001B[39moutputMode(\u001B[38;5;124m\"\u001B[39m\u001B[38;5;124mappend\u001B[39m\u001B[38;5;124m\"\u001B[39m)\\\n\u001B[1;32m      2\u001B[0m     \u001B[38;5;241m.\u001B[39mformat(\u001B[38;5;124m\"\u001B[39m\u001B[38;5;124mparquet\u001B[39m\u001B[38;5;124m\"\u001B[39m)\\\n\u001B[1;32m      3\u001B[0m     \u001B[38;5;241m.\u001B[39moption(\u001B[38;5;124m\"\u001B[39m\u001B[38;5;124mpath\u001B[39m\u001B[38;5;124m\"\u001B[39m,\u001B[38;5;124m\"\u001B[39m\u001B[38;5;124m/Volumes/azure_workspacedatabricks/default/writestream/\u001B[39m\u001B[38;5;124m\"\u001B[39m)\\\n\u001B[1;32m      4\u001B[0m     \u001B[38;5;241m.\u001B[39moption(\u001B[38;5;124m\"\u001B[39m\u001B[38;5;124mcheckpointlocation\u001B[39m\u001B[38;5;124m\"\u001B[39m,\u001B[38;5;124m\"\u001B[39m\u001B[38;5;124m/Volumes/azure_workspacedatabricks/default/checkpoint/\u001B[39m\u001B[38;5;124m\"\u001B[39m)\\\n\u001B[0;32m----> 5\u001B[0m     \u001B[38;5;241m.\u001B[39mstart()\n\u001B[1;32m      7\u001B[0m taxiWriteStreams\u001B[38;5;241m.\u001B[39mawaitTermination()\n",
        "File \u001B[0;32m/databricks/spark/python/pyspark/sql/streaming/readwriter.py:1637\u001B[0m, in \u001B[0;36mDataStreamWriter.start\u001B[0;34m(self, path, format, outputMode, partitionBy, queryName, **options)\u001B[0m\n\u001B[1;32m   1635\u001B[0m     \u001B[38;5;28mself\u001B[39m\u001B[38;5;241m.\u001B[39mqueryName(queryName)\n\u001B[1;32m   1636\u001B[0m \u001B[38;5;28;01mif\u001B[39;00m path \u001B[38;5;129;01mis\u001B[39;00m \u001B[38;5;28;01mNone\u001B[39;00m:\n\u001B[0;32m-> 1637\u001B[0m     \u001B[38;5;28;01mreturn\u001B[39;00m \u001B[38;5;28mself\u001B[39m\u001B[38;5;241m.\u001B[39m_sq(\u001B[38;5;28;43mself\u001B[39;49m\u001B[38;5;241;43m.\u001B[39;49m\u001B[43m_jwrite\u001B[49m\u001B[38;5;241;43m.\u001B[39;49m\u001B[43mstart\u001B[49m\u001B[43m(\u001B[49m\u001B[43m)\u001B[49m)\n\u001B[1;32m   1638\u001B[0m \u001B[38;5;28;01melse\u001B[39;00m:\n\u001B[1;32m   1639\u001B[0m     \u001B[38;5;28;01mreturn\u001B[39;00m \u001B[38;5;28mself\u001B[39m\u001B[38;5;241m.\u001B[39m_sq(\u001B[38;5;28mself\u001B[39m\u001B[38;5;241m.\u001B[39m_jwrite\u001B[38;5;241m.\u001B[39mstart(path))\n",
        "File \u001B[0;32m/databricks/spark/python/lib/py4j-0.10.9.7-src.zip/py4j/java_gateway.py:1355\u001B[0m, in \u001B[0;36mJavaMember.__call__\u001B[0;34m(self, *args)\u001B[0m\n\u001B[1;32m   1349\u001B[0m command \u001B[38;5;241m=\u001B[39m proto\u001B[38;5;241m.\u001B[39mCALL_COMMAND_NAME \u001B[38;5;241m+\u001B[39m\\\n\u001B[1;32m   1350\u001B[0m     \u001B[38;5;28mself\u001B[39m\u001B[38;5;241m.\u001B[39mcommand_header \u001B[38;5;241m+\u001B[39m\\\n\u001B[1;32m   1351\u001B[0m     args_command \u001B[38;5;241m+\u001B[39m\\\n\u001B[1;32m   1352\u001B[0m     proto\u001B[38;5;241m.\u001B[39mEND_COMMAND_PART\n\u001B[1;32m   1354\u001B[0m answer \u001B[38;5;241m=\u001B[39m \u001B[38;5;28mself\u001B[39m\u001B[38;5;241m.\u001B[39mgateway_client\u001B[38;5;241m.\u001B[39msend_command(command)\n\u001B[0;32m-> 1355\u001B[0m return_value \u001B[38;5;241m=\u001B[39m \u001B[43mget_return_value\u001B[49m\u001B[43m(\u001B[49m\n\u001B[1;32m   1356\u001B[0m \u001B[43m    \u001B[49m\u001B[43manswer\u001B[49m\u001B[43m,\u001B[49m\u001B[43m \u001B[49m\u001B[38;5;28;43mself\u001B[39;49m\u001B[38;5;241;43m.\u001B[39;49m\u001B[43mgateway_client\u001B[49m\u001B[43m,\u001B[49m\u001B[43m \u001B[49m\u001B[38;5;28;43mself\u001B[39;49m\u001B[38;5;241;43m.\u001B[39;49m\u001B[43mtarget_id\u001B[49m\u001B[43m,\u001B[49m\u001B[43m \u001B[49m\u001B[38;5;28;43mself\u001B[39;49m\u001B[38;5;241;43m.\u001B[39;49m\u001B[43mname\u001B[49m\u001B[43m)\u001B[49m\n\u001B[1;32m   1358\u001B[0m \u001B[38;5;28;01mfor\u001B[39;00m temp_arg \u001B[38;5;129;01min\u001B[39;00m temp_args:\n\u001B[1;32m   1359\u001B[0m     \u001B[38;5;28;01mif\u001B[39;00m \u001B[38;5;28mhasattr\u001B[39m(temp_arg, \u001B[38;5;124m\"\u001B[39m\u001B[38;5;124m_detach\u001B[39m\u001B[38;5;124m\"\u001B[39m):\n",
        "File \u001B[0;32m/databricks/spark/python/pyspark/errors/exceptions/captured.py:230\u001B[0m, in \u001B[0;36mcapture_sql_exception.<locals>.deco\u001B[0;34m(*a, **kw)\u001B[0m\n\u001B[1;32m    226\u001B[0m converted \u001B[38;5;241m=\u001B[39m convert_exception(e\u001B[38;5;241m.\u001B[39mjava_exception)\n\u001B[1;32m    227\u001B[0m \u001B[38;5;28;01mif\u001B[39;00m \u001B[38;5;129;01mnot\u001B[39;00m \u001B[38;5;28misinstance\u001B[39m(converted, UnknownException):\n\u001B[1;32m    228\u001B[0m     \u001B[38;5;66;03m# Hide where the exception came from that shows a non-Pythonic\u001B[39;00m\n\u001B[1;32m    229\u001B[0m     \u001B[38;5;66;03m# JVM exception message.\u001B[39;00m\n\u001B[0;32m--> 230\u001B[0m     \u001B[38;5;28;01mraise\u001B[39;00m converted \u001B[38;5;28;01mfrom\u001B[39;00m \u001B[38;5;28mNone\u001B[39m\n\u001B[1;32m    231\u001B[0m \u001B[38;5;28;01melse\u001B[39;00m:\n\u001B[1;32m    232\u001B[0m     \u001B[38;5;28;01mraise\u001B[39;00m\n",
        "\u001B[0;31mAnalysisException\u001B[0m: Append output mode not supported when there are streaming aggregations on streaming DataFrames/DataSets without watermark;\nAggregate [trip_type#15870], [trip_type#15870, sum(fare_amount#15861) AS sum(fare_amount)#15913]\n+- StreamingRelation DataSource(org.apache.spark.sql.SparkSession@17f84e46,parquet,List(),Some(StructType(StructField(VendorID,IntegerType,true),StructField(lpep_pickup_datetime,StringType,true),StructField(lpep_dropoff_datetime,StringType,true),StructField(store_and_fwd_flag,StringType,true),StructField(RatecodeID,IntegerType,true),StructField(PULocationID,IntegerType,true),StructField(DOLocationID,IntegerType,true),StructField(passenger_count,IntegerType,true),StructField(trip_distance,DoubleType,true),StructField(fare_amount,DoubleType,true),StructField(extra,DoubleType,true),StructField(mta_tax,DoubleType,true),StructField(tip_amount,DoubleType,true),StructField(tolls_amount,DoubleType,true),StructField(ehail_fee,StringType,true),StructField(improvement_surcharge,DoubleType,true),StructField(total_amount,DoubleType,true),StructField(payment_type,IntegerType,true),StructField(trip_type,IntegerType,true),StructField(congestion_surcharge,DoubleType,true))),List(),None,Map(header -> true, path -> /Volumes/azure_workspacedatabricks/default/readstream/),None), FileSource[/Volumes/azure_workspacedatabricks/default/readstream/], [VendorID#15852, lpep_pickup_datetime#15853, lpep_dropoff_datetime#15854, store_and_fwd_flag#15855, RatecodeID#15856, PULocationID#15857, DOLocationID#15858, passenger_count#15859, trip_distance#15860, fare_amount#15861, extra#15862, mta_tax#15863, tip_amount#15864, tolls_amount#15865, ehail_fee#15866, improvement_surcharge#15867, total_amount#15868, payment_type#15869, trip_type#15870, congestion_surcharge#15871]\n"
       ],
       "type": "baseError"
      }
     },
     "output_type": "display_data"
    }
   ],
   "source": [
    "taxiWriteStreams = taxiTransformation.writeStream.outputMode(\"append\")\\\n",
    "    .format(\"parquet\")\\\n",
    "    .option(\"path\",\"/Volumes/azure_workspacedatabricks/default/writestream/\")\\\n",
    "    .option(\"checkpointlocation\",\"/Volumes/azure_workspacedatabricks/default/checkpoint/\")\\\n",
    "    .start()\n",
    "\n",
    "taxiWriteStreams.awaitTermination()"
   ]
  },
  {
   "cell_type": "code",
   "execution_count": 0,
   "metadata": {
    "application/vnd.databricks.v1+cell": {
     "cellMetadata": {},
     "inputWidgets": {},
     "nuid": "55e27b54-b9eb-4452-aa90-d18c1fe6081d",
     "showTitle": false,
     "title": ""
    }
   },
   "outputs": [],
   "source": []
  }
 ],
 "metadata": {
  "application/vnd.databricks.v1+notebook": {
   "dashboards": [],
   "environmentMetadata": null,
   "language": "python",
   "notebookMetadata": {
    "pythonIndentUnit": 4
   },
   "notebookName": "Databricks - RealTime Streaming",
   "widgets": {}
  }
 },
 "nbformat": 4,
 "nbformat_minor": 0
}
